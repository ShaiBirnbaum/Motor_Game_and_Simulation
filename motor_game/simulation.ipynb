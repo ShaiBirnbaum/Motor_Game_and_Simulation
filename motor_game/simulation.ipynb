{
 "cells": [
  {
   "cell_type": "code",
   "execution_count": 4,
   "metadata": {},
   "outputs": [],
   "source": [
    "#welcome to motor game india race simulation!\n",
    "import os\n",
    "os.chdir(\"C:\\PythonFiles\\Motor_Game_and_Simulation\\\\\")\n",
    "import json\n",
    "from player_class import play #Player class\n",
    "from races_class import race #Races class\n",
    "from game_utils import utils"
   ]
  },
  {
   "cell_type": "code",
   "execution_count": null,
   "metadata": {},
   "outputs": [],
   "source": [
    "#open relevant json dataset of motorcycle details\n",
    "with open(\"data_set\\\\new_bike_list.json\") as f:\n",
    "    new_bike_list = json.load(f)\n",
    "marketplace1 = new_bike_list\n",
    "\n",
    "#add a bike number to all motorcycles\n",
    "marketplace = utils.add_bike_number(marketplace1)\n",
    "\n",
    "#show styled motorcycle marketplace\n",
    "utils.style_dic_list(marketplace) "
   ]
  },
  {
   "cell_type": "code",
   "execution_count": 6,
   "metadata": {},
   "outputs": [],
   "source": [
    "#define new player & beggining cash amount for simulation.\n",
    "player1 = play.Player(cash= 250000)"
   ]
  },
  {
   "cell_type": "code",
   "execution_count": 7,
   "metadata": {},
   "outputs": [
    {
     "name": "stdout",
     "output_type": "stream",
     "text": [
      "\n",
      "Wow!! you have just purchased TVS Apache RTR 165 RP!!!\n",
      "**Your cash balance is now 104,999.00**\n",
      "\n",
      "Take a look at your new garage:\n",
      "\n",
      "\n",
      "bike_number:125\n",
      "model_name:TVS Apache RTR 165 RP\n",
      "price:145,001\n",
      "CC:164.9\n",
      "mileage:45\n",
      "type_of_bike:Petrol Bike\n",
      "weight:148\n",
      "links:https://www.carandbike.com/tvs-bikes/apache-rtr-165-rp\n",
      "acceleration:3.9\n",
      "top_speed:123\n"
     ]
    }
   ],
   "source": [
    "#type in player's marketplace bike number, for the simulation. \n",
    "player1.buy(chosen_bike= 125, data= marketplace)"
   ]
  },
  {
   "cell_type": "code",
   "execution_count": 8,
   "metadata": {},
   "outputs": [],
   "source": [
    "#assign player to race, define entry fee for simulation.\n",
    "race_delhi = race.Races(entry_fee= 20000, player= player1)"
   ]
  },
  {
   "cell_type": "code",
   "execution_count": 9,
   "metadata": {},
   "outputs": [
    {
     "name": "stdout",
     "output_type": "stream",
     "text": [
      "Round 1\n",
      "The Winner Is TVS Apache RTR 165 RP!!!\n",
      "You have Won The Game!!!\n",
      "\n",
      "**Your cash balance is now 184,999.00**\n",
      "Round 2\n",
      "The Winner Is TVS Apache RTR 165 RP!!!\n",
      "You have Won The Game!!!\n",
      "\n",
      "**Your cash balance is now 264,999.00**\n",
      "Round 3\n",
      "The Winner Is TVS Apache RTR 165 RP!!!\n",
      "You have Won The Game!!!\n",
      "\n",
      "**Your cash balance is now 344,999.00**\n",
      "Round 4\n",
      "The Winner Is TVS Apache RTR 165 RP!!!\n",
      "You have Won The Game!!!\n",
      "\n",
      "**Your cash balance is now 424,999.00**\n",
      "Round 5\n",
      "The Winner Is Bajaj Pulsar 200 NS!!!\n",
      "You have Lost The Game!!!\n",
      "\n",
      "**Your cash balance is now 404,999.00**\n",
      "Round 6\n",
      "The Winner Is Honda CB300R!!!\n",
      "You have Lost The Game!!!\n",
      "\n",
      "**Your cash balance is now 384,999.00**\n",
      "Round 7\n",
      "The Winner Is KTM 250 Duke!!!\n",
      "You have Lost The Game!!!\n",
      "\n",
      "**Your cash balance is now 364,999.00**\n",
      "Round 8\n",
      "The Winner Is Bajaj Pulsar 150!!!\n",
      "You have Lost The Game!!!\n",
      "\n",
      "**Your cash balance is now 344,999.00**\n",
      "Round 9\n",
      "The Winner Is KTM RC 200!!!\n",
      "You have Lost The Game!!!\n",
      "\n",
      "**Your cash balance is now 324,999.00**\n"
     ]
    }
   ],
   "source": [
    "#simulates wanted number of rounds in a race, with 3 randomly selected motorcycles competing the player's bike.\n",
    "utils.simulate(data= marketplace, rounds_number= 10, race= race_delhi) "
   ]
  },
  {
   "cell_type": "code",
   "execution_count": 10,
   "metadata": {},
   "outputs": [
    {
     "data": {
      "text/plain": [
       "[[('22Kymco Flow', 60),\n",
       "  ('Aprilia SXR 160', 100),\n",
       "  ('Nexzu Mobility Dextro', 35),\n",
       "  ('TVS Apache RTR 165 RP- Winner', 123)],\n",
       " [('TVS Scooty Pep +', 65),\n",
       "  ('Yamaha Ray-ZR 125FI', 91),\n",
       "  ('Bajaj CT 100', 90),\n",
       "  ('TVS Apache RTR 165 RP- Winner', 123)],\n",
       " [('KTM 125 Duke', 120),\n",
       "  ('Okinawa Dual', 25),\n",
       "  ('Honda CB Shine', 100),\n",
       "  ('TVS Apache RTR 165 RP- Winner', 123)],\n",
       " [('BGauss B8', 50),\n",
       "  ('Hero XPulse 200 4V', 115),\n",
       "  ('Piaggio Vespa', 90),\n",
       "  ('TVS Apache RTR 165 RP- Winner', 123)],\n",
       " [('Hero HF Deluxe i3s', 90),\n",
       "  ('Crayon Motors Envy', 25),\n",
       "  ('Bajaj Pulsar 200 NS- Winner', 136),\n",
       "  ('TVS Apache RTR 165 RP', 123)],\n",
       " [('Piaggio Vespa 150', 90),\n",
       "  ('TVS Apache RR 310', 160),\n",
       "  ('Honda CB300R- Winner', 160),\n",
       "  ('TVS Apache RTR 165 RP', 123)],\n",
       " [('KTM 250 Duke- Winner', 142),\n",
       "  ('Ampere Reo', 25),\n",
       "  ('Yamaha FZ 25', 134),\n",
       "  ('TVS Apache RTR 165 RP', 123)],\n",
       " [('Bajaj Pulsar 150- Winner', 112),\n",
       "  ('Ampere Magnus', 25),\n",
       "  ('TVS Scooty Zest 110', 80),\n",
       "  ('TVS Apache RTR 165 RP', 123)],\n",
       " [('Evolet Derby', 25),\n",
       "  ('KTM RC 200- Winner', 170),\n",
       "  ('KTM RC 200', 170),\n",
       "  ('TVS Apache RTR 165 RP', 123)]]"
      ]
     },
     "execution_count": 10,
     "metadata": {},
     "output_type": "execute_result"
    }
   ],
   "source": [
    "#documentation of competitors and the winner for all simulation rounds.\n",
    "race_delhi.all_rounds"
   ]
  }
 ],
 "metadata": {
  "kernelspec": {
   "display_name": "Python 3",
   "language": "python",
   "name": "python3"
  },
  "language_info": {
   "codemirror_mode": {
    "name": "ipython",
    "version": 3
   },
   "file_extension": ".py",
   "mimetype": "text/x-python",
   "name": "python",
   "nbconvert_exporter": "python",
   "pygments_lexer": "ipython3",
   "version": "3.9.13"
  },
  "orig_nbformat": 4,
  "vscode": {
   "interpreter": {
    "hash": "89764c6526e0d2a14af03aa236f0f15dc33828241824ceece52f39cfc3e7511b"
   }
  }
 },
 "nbformat": 4,
 "nbformat_minor": 2
}
