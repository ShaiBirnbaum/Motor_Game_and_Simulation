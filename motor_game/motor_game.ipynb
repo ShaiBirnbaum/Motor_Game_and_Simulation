{
 "cells": [
  {
   "cell_type": "code",
   "execution_count": 1,
   "metadata": {},
   "outputs": [],
   "source": [
    "#welcome to motor game india! please take a look at the different features.\n",
    "import os\n",
    "os.chdir(\"C:\\PythonFiles\\Motor_Game_and_Simulation\\\\\")\n",
    "import json\n",
    "from player_class import play #Player class\n",
    "from races_class import race #Races class\n",
    "from game_utils import utils #more game functions"
   ]
  },
  {
   "cell_type": "code",
   "execution_count": null,
   "metadata": {},
   "outputs": [],
   "source": [
    "#open relevant json dataset of motorcycle details\n",
    "with open(\"data_set\\\\new_bike_list.json\") as f:\n",
    "    new_bike_list = json.load(f)\n",
    "marketplace1 = new_bike_list\n",
    "\n",
    "#add a bike number to all motorcycles\n",
    "marketplace = utils.add_bike_number(marketplace1)\n",
    "\n",
    "#show styled motorcycle marketplace\n",
    "utils.style_dic_list(marketplace) "
   ]
  },
  {
   "cell_type": "code",
   "execution_count": 4,
   "metadata": {},
   "outputs": [],
   "source": [
    "#define new player & beggining cash amount\n",
    "player1 = play.Player(cash= 250000)"
   ]
  },
  {
   "cell_type": "code",
   "execution_count": 5,
   "metadata": {},
   "outputs": [
    {
     "name": "stdout",
     "output_type": "stream",
     "text": [
      "\n",
      "Wow!! you have just purchased Ola Electric S1!!!\n",
      "**Your cash balance is now 164,901.00**\n",
      "\n",
      "Take a look at your new garage:\n",
      "\n",
      "\n",
      "bike_number:4\n",
      "model_name:Ola Electric S1\n",
      "price:85,099\n",
      "CC:None\n",
      "mileage:181\n",
      "type_of_bike:Electric Bike\n",
      "weight:121\n",
      "links:https://www.carandbike.com/ola-electric-bikes/s1\n",
      "acceleration:2.9\n",
      "top_speed:116\n"
     ]
    }
   ],
   "source": [
    "#assigns wanted bike to player, by bike number. removes it from the market. \n",
    "#shows updated cash and all bought motorcycles.\n",
    "player1.buy(chosen_bike= 4, data= marketplace) \n"
   ]
  },
  {
   "cell_type": "code",
   "execution_count": 6,
   "metadata": {},
   "outputs": [],
   "source": [
    "#assign player to a race, define entry fee.\n",
    "race_mumbai = race.Races(entry_fee= 20000, player= player1)"
   ]
  },
  {
   "cell_type": "code",
   "execution_count": 7,
   "metadata": {},
   "outputs": [
    {
     "data": {
      "text/plain": [
       "[('Royal Enfield Interceptor 650', 170),\n",
       " ('Yezdi Scrambler', 140),\n",
       " ('Yamaha Ray-ZR 125FI', 91),\n",
       " ('Ola Electric S1', 116)]"
      ]
     },
     "execution_count": 7,
     "metadata": {},
     "output_type": "execute_result"
    }
   ],
   "source": [
    "#return player's bike, 3 randomly generated bikes & their top speeds.\n",
    "race_mumbai.all_competitors(data= marketplace)\n",
    "race_mumbai.competitors"
   ]
  },
  {
   "cell_type": "code",
   "execution_count": 8,
   "metadata": {},
   "outputs": [
    {
     "name": "stdout",
     "output_type": "stream",
     "text": [
      "The Winner Is Royal Enfield Interceptor 650!!!\n",
      "You have Lost The Game!!!\n",
      "\n",
      "**Your cash balance is now 144,901.00**\n"
     ]
    }
   ],
   "source": [
    "#if player chose a bike and has enough money- this function will print the winner of the round & player's updated cash.\n",
    "\n",
    "#winner is calculated on basis of the motorcycle's top speed+ a random boost that ranges from 0 to 2/3\n",
    "#of the bike's top speed. This way, faster motocycles have a statistical advatange, but will not always win.\n",
    "\n",
    "race_mumbai.race_money() "
   ]
  },
  {
   "cell_type": "code",
   "execution_count": 9,
   "metadata": {},
   "outputs": [
    {
     "data": {
      "text/plain": [
       "[[('Royal Enfield Interceptor 650- Winner', 170),\n",
       "  ('Yezdi Scrambler', 140),\n",
       "  ('Yamaha Ray-ZR 125FI', 91),\n",
       "  ('Ola Electric S1', 116)]]"
      ]
     },
     "execution_count": 9,
     "metadata": {},
     "output_type": "execute_result"
    }
   ],
   "source": [
    "#documents all race rounds competitors and winner.\n",
    "race_mumbai.all_rounds"
   ]
  }
 ],
 "metadata": {
  "kernelspec": {
   "display_name": "Python 3",
   "language": "python",
   "name": "python3"
  },
  "language_info": {
   "codemirror_mode": {
    "name": "ipython",
    "version": 3
   },
   "file_extension": ".py",
   "mimetype": "text/x-python",
   "name": "python",
   "nbconvert_exporter": "python",
   "pygments_lexer": "ipython3",
   "version": "3.9.13"
  },
  "orig_nbformat": 4,
  "vscode": {
   "interpreter": {
    "hash": "89764c6526e0d2a14af03aa236f0f15dc33828241824ceece52f39cfc3e7511b"
   }
  }
 },
 "nbformat": 4,
 "nbformat_minor": 2
}
